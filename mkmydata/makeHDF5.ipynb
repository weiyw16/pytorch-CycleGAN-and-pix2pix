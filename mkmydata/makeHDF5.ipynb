{
 "cells": [
  {
   "cell_type": "code",
   "execution_count": 1,
   "metadata": {},
   "outputs": [],
   "source": [
    "import os\n",
    "import h5py\n",
    "from PIL import Image\n",
    "import numpy as np\n",
    "\n",
    "import struct\n",
    "import matplotlib.pyplot as plt\n",
    "import torch\n",
    "import torchvision.transforms as transforms"
   ]
  },
  {
   "cell_type": "code",
   "execution_count": 2,
   "metadata": {},
   "outputs": [],
   "source": [
    "NX = 276\n",
    "NZ = 276"
   ]
  },
  {
   "cell_type": "code",
   "execution_count": 3,
   "metadata": {},
   "outputs": [],
   "source": [
    "workpath = \"./\"\n",
    "phase = 'train' #['train', 'test']\n",
    "mode = 'B' #['A', 'B']\n",
    "content = ['vx_split', 'vz_split']\n",
    "\n",
    "fileNum = 0 \n",
    "for root,dirs,files in os.walk(workpath + content[0]):    #遍历统计  \n",
    "    for each in files:  \n",
    "        if each[-4:] == '.png':  \n",
    "            #print( root,dirs,each)  \n",
    "            fileNum += 1  \n",
    "#print(fileNum)\n",
    "\n",
    "outfile = h5py.File(workpath + phase + mode +'.h5', 'w')  #./trainB.h5\n",
    "outdata = torch.zeros((2, NX, NZ))\n",
    "\n",
    "for count in range(1, fileNum):\n",
    "    for i, iterm in enumerate(content):\n",
    "        iname = workpath + iterm + \"/\" + mode + str(count) + \".png\" # ./vz_split/B1.png\n",
    "        data = Image.open(iname).convert('L').resize((NX, NZ)) # 276*276\n",
    "        outdata[i] = transforms.ToTensor()(data) #np.matrix(data, dtype='float')/255.0\n",
    "    #infile = Image.open(iname)\n",
    "    outfile.create_dataset(mode+str(count), data=outdata, dtype=np.float64) #B1.png\n",
    "outfile.close()"
   ]
  },
  {
   "cell_type": "code",
   "execution_count": 4,
   "metadata": {},
   "outputs": [],
   "source": [
    "workpath = \"./\"\n",
    "phase = 'train' #['train', 'test']\n",
    "mode = 'A' #['A', 'B']\n",
    "content = ['curl_split', 'div_split']\n",
    "\n",
    "fileNum = 0 \n",
    "for root,dirs,files in os.walk(workpath + content[0]):    #遍历统计  \n",
    "    for each in files:  \n",
    "        if each[-4:] == '.png':  \n",
    "            #print( root,dirs,each)  \n",
    "            fileNum += 1  \n",
    "#print(fileNum)\n",
    "\n",
    "outfile = h5py.File(workpath + phase + mode +'.h5', 'w')  #./trainB.h5\n",
    "outdata = torch.zeros((2, NX, NZ))\n",
    "\n",
    "for count in range(1, fileNum):\n",
    "    for i, iterm in enumerate(content):\n",
    "        iname = workpath + iterm + \"/\" + mode + str(count) + \".png\" # ./vz_split/B1.png\n",
    "        data = Image.open(iname).convert('L').resize((NX, NZ)) # 276*276\n",
    "        outdata[i] = transforms.ToTensor()(data) #np.matrix(data, dtype='float')/255.0\n",
    "    #infile = Image.open(iname)\n",
    "    outfile.create_dataset(mode+str(count), data=outdata, dtype=np.float64) #B1.png\n",
    "outfile.close()"
   ]
  },
  {
   "cell_type": "code",
   "execution_count": 5,
   "metadata": {},
   "outputs": [],
   "source": [
    "%hist -f makeHDF5.py"
   ]
  },
  {
   "cell_type": "code",
   "execution_count": 7,
   "metadata": {},
   "outputs": [],
   "source": [
    "testfile = h5py.File(workpath + phase + mode+'.h5', 'r')\n",
    "pic1 = testfile['A1']\n",
    "#testfile.close()\n"
   ]
  },
  {
   "cell_type": "code",
   "execution_count": 8,
   "metadata": {},
   "outputs": [
    {
     "data": {
      "text/plain": [
       "<HDF5 dataset \"A1\": shape (2, 276, 276), type \"<f8\">"
      ]
     },
     "execution_count": 8,
     "metadata": {},
     "output_type": "execute_result"
    }
   ],
   "source": [
    "pic1"
   ]
  },
  {
   "cell_type": "code",
   "execution_count": 11,
   "metadata": {},
   "outputs": [],
   "source": [
    "import torch\n",
    "test=torch.Tensor(pic1)"
   ]
  },
  {
   "cell_type": "code",
   "execution_count": 12,
   "metadata": {},
   "outputs": [
    {
     "data": {
      "text/plain": [
       "\n",
       "  127   127   128  ...    128   127   127\n",
       "  127   127   128  ...    128   127   127\n",
       "  127   127   128  ...    128   127   127\n",
       "       ...          ⋱          ...       \n",
       "  127   128   128  ...    128   127   127\n",
       "  127   128   128  ...    128   127   127\n",
       "  127   128   128  ...    128   127   127\n",
       "[torch.FloatTensor of size 276x276]"
      ]
     },
     "execution_count": 12,
     "metadata": {},
     "output_type": "execute_result"
    }
   ],
   "source": [
    "test"
   ]
  },
  {
   "cell_type": "code",
   "execution_count": 30,
   "metadata": {
    "scrolled": true
   },
   "outputs": [],
   "source": [
    "aa = Image.open('./vz_split/B1.png')\n",
    "data = aa.convert('L').resize((276, 276))#, Image.BICUBIC)#.getdata()\n",
    "#data = np.matrix(data, dtype='float')/255.0\n",
    "#sub_ts = torch.from_numpy(sub_img)  \n",
    "import torchvision.transforms as transforms\n",
    "A = transforms.ToTensor()(data)\n",
    "B = transforms.ToTensor()(data)\n",
    "C = torch.zeros((2, 276, 276))\n",
    "C[0]  = A\n",
    "C[1] = B\n",
    "#import torch\n",
    "#test = torch.Tensor(data)"
   ]
  },
  {
   "cell_type": "code",
   "execution_count": 31,
   "metadata": {},
   "outputs": [
    {
     "data": {
      "text/plain": [
       "tensor([[[0.4471, 0.4471, 0.4471,  ..., 0.4510, 0.4510, 0.4510],\n",
       "         [0.4235, 0.4314, 0.4275,  ..., 0.4235, 0.4235, 0.4235],\n",
       "         [0.4157, 0.2588, 0.3922,  ..., 0.4314, 0.4314, 0.4314],\n",
       "         ...,\n",
       "         [0.3373, 0.4706, 0.5294,  ..., 0.4353, 0.4353, 0.4353],\n",
       "         [0.5255, 0.5059, 0.4196,  ..., 0.4314, 0.4314, 0.4314],\n",
       "         [0.4588, 0.3804, 0.3765,  ..., 0.4275, 0.4314, 0.4314]],\n",
       "\n",
       "        [[0.4471, 0.4471, 0.4471,  ..., 0.4510, 0.4510, 0.4510],\n",
       "         [0.4235, 0.4314, 0.4275,  ..., 0.4235, 0.4235, 0.4235],\n",
       "         [0.4157, 0.2588, 0.3922,  ..., 0.4314, 0.4314, 0.4314],\n",
       "         ...,\n",
       "         [0.3373, 0.4706, 0.5294,  ..., 0.4353, 0.4353, 0.4353],\n",
       "         [0.5255, 0.5059, 0.4196,  ..., 0.4314, 0.4314, 0.4314],\n",
       "         [0.4588, 0.3804, 0.3765,  ..., 0.4275, 0.4314, 0.4314]]])"
      ]
     },
     "execution_count": 31,
     "metadata": {},
     "output_type": "execute_result"
    }
   ],
   "source": [
    "C"
   ]
  },
  {
   "cell_type": "code",
   "execution_count": 29,
   "metadata": {},
   "outputs": [
    {
     "name": "stdout",
     "output_type": "stream",
     "text": [
      "Help on built-in function cat:\n",
      "\n",
      "cat(...)\n",
      "    cat(seq, dim=0, out=None) -> Tensor\n",
      "    \n",
      "    Concatenates the given sequence of :attr:`seq` tensors in the given dimension.\n",
      "    All tensors must either have the same shape (except in the concatenating\n",
      "    dimension) or be empty.\n",
      "    \n",
      "    :func:`torch.cat` can be seen as an inverse operation for :func:`torch.split`\n",
      "    and :func:`torch.chunk`.\n",
      "    \n",
      "    :func:`torch.cat` can be best understood via examples.\n",
      "    \n",
      "    Args:\n",
      "        seq (sequence of Tensors): any python sequence of tensors of the same type.\n",
      "            Non-empty tensors provided must have the same shape, except in the\n",
      "            cat dimension.\n",
      "        dim (int, optional): the dimension over which the tensors are concatenated\n",
      "        out (Tensor, optional): the output tensor\n",
      "    \n",
      "    Example::\n",
      "    \n",
      "        >>> x = torch.randn(2, 3)\n",
      "        >>> x\n",
      "        tensor([[ 0.6580, -1.0969, -0.4614],\n",
      "                [-0.1034, -0.5790,  0.1497]])\n",
      "        >>> torch.cat((x, x, x), 0)\n",
      "        tensor([[ 0.6580, -1.0969, -0.4614],\n",
      "                [-0.1034, -0.5790,  0.1497],\n",
      "                [ 0.6580, -1.0969, -0.4614],\n",
      "                [-0.1034, -0.5790,  0.1497],\n",
      "                [ 0.6580, -1.0969, -0.4614],\n",
      "                [-0.1034, -0.5790,  0.1497]])\n",
      "        >>> torch.cat((x, x, x), 1)\n",
      "        tensor([[ 0.6580, -1.0969, -0.4614,  0.6580, -1.0969, -0.4614,  0.6580,\n",
      "                 -1.0969, -0.4614],\n",
      "                [-0.1034, -0.5790,  0.1497, -0.1034, -0.5790,  0.1497, -0.1034,\n",
      "                 -0.5790,  0.1497]])\n",
      "\n"
     ]
    }
   ],
   "source": [
    "help(torch.cat)"
   ]
  },
  {
   "cell_type": "code",
   "execution_count": 9,
   "metadata": {
    "scrolled": true
   },
   "outputs": [
    {
     "name": "stdout",
     "output_type": "stream",
     "text": [
      "0 vx_split\n",
      "1 vz_split\n"
     ]
    }
   ],
   "source": [
    "content = ['vx_split', 'vz_split']\n",
    "for i, iterm in enumerate(content):\n",
    "    print(i, iterm)"
   ]
  },
  {
   "cell_type": "code",
   "execution_count": 13,
   "metadata": {},
   "outputs": [],
   "source": [
    "outdata = np.empty((2, 3, 1))"
   ]
  },
  {
   "cell_type": "code",
   "execution_count": 15,
   "metadata": {},
   "outputs": [],
   "source": [
    "outdata[0] = [[0], [0], [0]]\n",
    "outdata[1] = [[1], [1], [1]]"
   ]
  },
  {
   "cell_type": "code",
   "execution_count": 12,
   "metadata": {},
   "outputs": [
    {
     "data": {
      "text/plain": [
       "array([[[0.]],\n",
       "\n",
       "       [[1.]]])"
      ]
     },
     "execution_count": 12,
     "metadata": {},
     "output_type": "execute_result"
    }
   ],
   "source": [
    "outdata"
   ]
  },
  {
   "cell_type": "code",
   "execution_count": 20,
   "metadata": {},
   "outputs": [
    {
     "data": {
      "text/plain": [
       "'./vx_split'"
      ]
     },
     "execution_count": 20,
     "metadata": {},
     "output_type": "execute_result"
    }
   ],
   "source": [
    "workpath + content[0]"
   ]
  },
  {
   "cell_type": "code",
   "execution_count": null,
   "metadata": {},
   "outputs": [],
   "source": []
  }
 ],
 "metadata": {
  "kernelspec": {
   "display_name": "Python 3",
   "language": "python",
   "name": "python3"
  },
  "language_info": {
   "codemirror_mode": {
    "name": "ipython",
    "version": 3
   },
   "file_extension": ".py",
   "mimetype": "text/x-python",
   "name": "python",
   "nbconvert_exporter": "python",
   "pygments_lexer": "ipython3",
   "version": "3.5.5"
  }
 },
 "nbformat": 4,
 "nbformat_minor": 2
}
