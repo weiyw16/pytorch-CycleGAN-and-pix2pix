{
 "cells": [
  {
   "cell_type": "code",
   "execution_count": 1,
   "metadata": {},
   "outputs": [],
   "source": [
    "import os\n",
    "import struct\n",
    "import numpy as np\n",
    "import matplotlib.pyplot as plt\n",
    "from PIL import Image"
   ]
  },
  {
   "cell_type": "code",
   "execution_count": 2,
   "metadata": {},
   "outputs": [],
   "source": [
    "workpath = \"./\"\n",
    "mode = \"Ssingletrain\" # \"test\"\n",
    "mode_A = \"curl\"\n",
    "mode_B = \"vx\"\n",
    "\n",
    "if not os.path.exists(workpath + mode):\n",
    "    #os.makedirs(os.path.split(out_A_path)[0])\n",
    "    os.makedirs(workpath + mode)\n",
    "if not os.path.exists(os.getcwd() + \"/\" + mode_A  + \"_split\"):\n",
    "    #os.makedirs(os.path.split(out_A_path)[0])\n",
    "    os.makedirs(os.getcwd() + \"/\" + mode_A  + \"_split\")\n",
    "if not os.path.exists(os.getcwd() + \"/\" + mode_B  + \"_split\"):\n",
    "    #os.makedirs(os.path.split(out_A_path)[0])\n",
    "    os.makedirs(os.getcwd() + \"/\" + mode_B  + \"_split\")\n",
    "\n",
    "filenum = 0\n",
    "for root,dirs,files in os.walk(workpath + mode_B):    #遍历统计  \n",
    "    for each in files:  \n",
    "        if each[-4:] == '.bin':  \n",
    "            #print( root,dirs,each)  \n",
    "            filenum += 1  \n",
    "\n",
    "nt = 4000\n",
    "nr = 301\n",
    "out_data = np.empty((nt,nr))\n",
    "nx_out = 276\n",
    "nz_out = 276\n",
    "NX = nx_out * 2\n",
    "NZ = nz_out"
   ]
  },
  {
   "cell_type": "code",
   "execution_count": null,
   "metadata": {},
   "outputs": [],
   "source": [
    "for count in range(filenum): # 0 ~ filenum-1\n",
    "    in_A_path = os.getcwd() + \"/\" + mode_A  + \"/\" + mode_A + str(count) + \".bin\"\n",
    "    in_B_path = os.getcwd() +  \"/\" + mode_B  + \"/\" + mode_B + str(count) + \".bin\"\n",
    "\n",
    "    out_A_path =  os.getcwd() + \"/\" + mode_A  + \"_split/A\" + str(count+1) + \".png\"\n",
    "    out_B_path =  os.getcwd() + \"/\" + mode_B  + \"_split/B\" + str(count+1) + \".png\"\n",
    "    outname = os.getcwd() + \"/\" + mode + \"/\" + str(count+1) + \".png\"\n",
    "    \n",
    "    FA = open(in_A_path, \"rb\")\n",
    "    for tt in range(nt):\n",
    "        for rr in range(nr):\n",
    "            data = FA.read(4)\n",
    "            data_float = struct.unpack(\"f\", data)[0]\n",
    "            out_data[tt][rr] = data_float\n",
    "     #np.shape(out_data)   # (4000,301)\n",
    "    cut_data = out_data[0:4000, 8:301]\n",
    "    #pic = plt.imshow(cut_data,vmin=-0.00000001, vmax = 0.00000001, extent=[0, 256, 256, 0])#, shape=[100,100])\n",
    "    plt.imsave(out_A_path, cut_data, vmin=-0.00000001, vmax = 0.00000001)\n",
    "    #plt.imsave('A01.png', cut_data, vmin=-0.00000001, vmax = 0.00000001)\n",
    "    Image.open(out_A_path).resize((nx_out, nz_out), Image.ANTIALIAS).save(out_A_path)\n",
    "\n",
    "    # B\n",
    "    FB = open(in_B_path, \"rb\")\n",
    "    for tt in range(nt):\n",
    "        for rr in range(nr):\n",
    "            data = FB.read(4)\n",
    "            data_float = struct.unpack(\"f\", data)[0]\n",
    "            out_data[tt][rr] = data_float\n",
    "     #np.shape(out_data)   # (4000,301)\n",
    "    cut_data = out_data[0:4000, 8:301]\n",
    "    #pic = plt.imshow(cut_data,vmin=-0.00000001, vmax = 0.00000001, extent=[0, 256, 256, 0])#, shape=[100,100])\n",
    "    plt.imsave(out_B_path, cut_data, vmin=-0.00000001, vmax = 0.00000001)\n",
    "    Image.open(out_B_path).resize((nx_out, nz_out), Image.ANTIALIAS).save(out_B_path)\n",
    "    \n",
    "    arr = [out_A_path, out_B_path]\n",
    "    toImage = Image.new('L', (NX,NZ))\n",
    "    for i in range(2):\n",
    "        fromImge = Image.open(arr[i])\n",
    "        loc = (((i) * int(NX / 2)), 0)\n",
    "        toImage.paste(fromImge, loc)\n",
    "    toImage.save(outname)"
   ]
  },
  {
   "cell_type": "code",
   "execution_count": null,
   "metadata": {},
   "outputs": [],
   "source": [
    "%hist -f mk_S_png.py"
   ]
  },
  {
   "cell_type": "code",
   "execution_count": null,
   "metadata": {},
   "outputs": [],
   "source": []
  }
 ],
 "metadata": {
  "kernelspec": {
   "display_name": "Python 3",
   "language": "python",
   "name": "python3"
  },
  "language_info": {
   "codemirror_mode": {
    "name": "ipython",
    "version": 3
   },
   "file_extension": ".py",
   "mimetype": "text/x-python",
   "name": "python",
   "nbconvert_exporter": "python",
   "pygments_lexer": "ipython3",
   "version": "3.5.5"
  }
 },
 "nbformat": 4,
 "nbformat_minor": 2
}
