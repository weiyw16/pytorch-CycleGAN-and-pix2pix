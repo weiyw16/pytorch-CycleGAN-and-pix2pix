{
 "cells": [
  {
   "cell_type": "code",
   "execution_count": 1,
   "metadata": {},
   "outputs": [],
   "source": [
    "import segyio\n",
    "import matplotlib.pyplot as plt\n",
    "from matplotlib import cm\n",
    "import numpy as np\n",
    "from PIL import Image\n",
    "from scipy import misc\n",
    "%matplotlib inline\n",
    "import os"
   ]
  },
  {
   "cell_type": "code",
   "execution_count": 2,
   "metadata": {},
   "outputs": [],
   "source": [
    "src = segyio.open(\"./segydata/step4-owe-marmousi-stk.sgy\",\"r+\")"
   ]
  },
  {
   "cell_type": "code",
   "execution_count": 6,
   "metadata": {},
   "outputs": [
    {
     "name": "stderr",
     "output_type": "stream",
     "text": [
      "/home/wyw/anaconda2/envs/devito/lib/python3.6/site-packages/ipykernel_launcher.py:29: DeprecationWarning: `toimage` is deprecated!\n",
      "`toimage` is deprecated in SciPy 1.0.0, and will be removed in 1.2.0.\n",
      "Use Pillow's ``Image.fromarray`` directly instead.\n"
     ]
    }
   ],
   "source": [
    "pixsize=276\n",
    "\n",
    "trace_beg = 41\n",
    "trace_step = 80\n",
    "trace_end = trace_step + trace_beg\n",
    "trace_lenth = trace_end - trace_beg\n",
    "rec = np.empty((trace_lenth, 801), dtype=np.float32)\n",
    "\n",
    "path1 = \"./data\"+str(pixsize)+\"B\"\n",
    "path2 = \"./data\"+str(pixsize)+\"A\"\n",
    "if not os.path.exists(path1):\n",
    "        os.makedirs(path1)\n",
    "if not os.path.exists(path2):\n",
    "        os.makedirs(path2)\n",
    "\n",
    "extent = [0, 0 + 10, 10, 0]\n",
    "count = 0\n",
    "times=0\n",
    "for times in range(0, 11):\n",
    "    count = 0\n",
    "    for i in range(41+times*trace_step, 41+(times+1)*trace_step):\n",
    "        rec[count][:] = src.trace[i]\n",
    "        count += 1\n",
    "    scale = np.max(rec) / 10.\n",
    "    #extent = [0, 0 + 10, 10, 0]\n",
    "    Bpath = path1+\"/\"+str(times+1)+\".png\"\n",
    "    #plt.imshow(rec, vmin=-scale, vmax=scale, cmap=cm.gray, extent=extent)\n",
    "    #plt.savefig(str(times)+\".png\")\n",
    "    misc.toimage(rec, cmin=-scale, cmax=scale).save(Bpath)\n",
    "    imseis = Image.open(Bpath)\n",
    "    outseis = Image.open(Bpath).resize((pixsize, pixsize), Image.ANTIALIAS).save(Bpath)\n"
   ]
  },
  {
   "cell_type": "code",
   "execution_count": 7,
   "metadata": {},
   "outputs": [
    {
     "name": "stderr",
     "output_type": "stream",
     "text": [
      "/home/wyw/anaconda2/envs/devito/lib/python3.6/site-packages/ipykernel_launcher.py:14: DeprecationWarning: `toimage` is deprecated!\n",
      "`toimage` is deprecated in SciPy 1.0.0, and will be removed in 1.2.0.\n",
      "Use Pillow's ``Image.fromarray`` directly instead.\n",
      "  \n"
     ]
    }
   ],
   "source": [
    "trace_beg = 41\n",
    "trace_step = 80\n",
    "trace_end = trace_step + trace_beg\n",
    "trace_lenth = trace_end - trace_beg\n",
    "sou = np.ones((trace_lenth, 801), dtype=np.float32)\n",
    "eoo1 = 1\n",
    "eoo = 2\n",
    "sou[ int(trace_lenth/2)-eoo1:int(trace_lenth/2)+eoo1, int(1000/4)-eoo:int(1000/4)+eoo ] = 0\n",
    "sou[ int(trace_lenth/2)-eoo1:int(trace_lenth/2)+eoo1, int(2000/4)-eoo:int(2000/4)+eoo] = 0\n",
    "sou[ int(trace_lenth/2)-eoo1:int(trace_lenth/2)+eoo1, int(3000/4)-eoo:int(3000/4)+eoo] = 0\n",
    "#plt.imshow(sou, cmap=cm.gray, extent=extent)\n",
    "for timesA in range(11):\n",
    "    Apath = path2 + \"/\" + str(timesA+1)+\".png\"\n",
    "    misc.toimage(sou).save(Apath)\n",
    "    imseis = Image.open(Apath)\n",
    "    outseis = Image.open(Apath).resize((pixsize,pixsize), Image.ANTIALIAS).save(Apath)"
   ]
  },
  {
   "cell_type": "code",
   "execution_count": 8,
   "metadata": {},
   "outputs": [],
   "source": [
    "#choose = \"./test\"\n",
    "choose = \"./data\"+str(pixsize)\n",
    "NX = pixsize*2 # 200\n",
    "NZ = pixsize # 100\n",
    "fileNum = 0\n",
    "#ccpath = os.path.join(os.getcwd(),\"/trainA\") \n",
    "for root,dirs,files in os.walk(choose + \"B\"):    #遍历统计  \n",
    "    for each in files:  \n",
    "        if each[-4:] == '.png':  \n",
    "            #print( root,dirs,each)  \n",
    "            fileNum += 1  \n",
    "\n",
    "if not os.path.exists(choose):\n",
    "        os.makedirs(choose)\n",
    "        \n",
    "for count in range(1, fileNum+1):\n",
    "    #count = 1\n",
    "    #arr = ['p1.png', 'p2.png']\n",
    "    #modelpath = \"./trainA/\" + str(count) + \".png\"\n",
    "    #seismicpath = \"./trainB/\" + str(count) + \".png\"\n",
    "    #outname = \"./train/\" + str(count) + \".png\"\n",
    "    modelpath = choose + \"A/\" + str(count) + \".png\"\n",
    "    seismicpath = choose + \"B/\" + str(count) + \".png\"\n",
    "    outname = choose + \"/\" + str(count) + \".png\"\n",
    "    arr = [modelpath, seismicpath]\n",
    "    \n",
    "    toImage = Image.new('L',(NX,NZ))\n",
    "    for i in range(2):\n",
    "        fromImge = Image.open(arr[i])\n",
    "        # loc = ((i % 2) * 200, (int(i/2) * 200))\n",
    "        #loc = ((int(i/2) * 200), (i % 2) * 200))\n",
    "        loc = (((i % 2) * int(NX / 2)), 0)\n",
    "        #print(loc)\n",
    "        toImage.paste(fromImge, loc)\n",
    "    toImage.save(outname)"
   ]
  },
  {
   "cell_type": "code",
   "execution_count": null,
   "metadata": {},
   "outputs": [],
   "source": []
  }
 ],
 "metadata": {
  "kernelspec": {
   "display_name": "Python 3",
   "language": "python",
   "name": "python3"
  },
  "language_info": {
   "codemirror_mode": {
    "name": "ipython",
    "version": 3
   },
   "file_extension": ".py",
   "mimetype": "text/x-python",
   "name": "python",
   "nbconvert_exporter": "python",
   "pygments_lexer": "ipython3",
   "version": "3.6.4"
  }
 },
 "nbformat": 4,
 "nbformat_minor": 2
}
