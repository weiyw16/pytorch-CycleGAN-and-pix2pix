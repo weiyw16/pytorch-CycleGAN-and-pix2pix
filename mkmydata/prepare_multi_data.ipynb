{
 "cells": [
  {
   "cell_type": "code",
   "execution_count": 1,
   "metadata": {},
   "outputs": [],
   "source": [
    "import os\n",
    "import struct\n",
    "import numpy as np\n",
    "import matplotlib.pyplot as plt\n",
    "from PIL import Image"
   ]
  },
  {
   "cell_type": "code",
   "execution_count": 2,
   "metadata": {},
   "outputs": [],
   "source": [
    "workpath = \"./\"\n",
    "mode = \"Pmultitrain\" # \"test\"\n",
    "mode_A1 = \"div\"\n",
    "mode_A2 = \"curl\"\n",
    "mode_B1 = \"vz\"\n",
    "mode_B2 = \"vx\"\n",
    "\n",
    "if not os.path.exists(workpath + mode):\n",
    "    os.makedirs(workpath + mode)\n",
    "if not os.path.exists(os.getcwd() + \"/\" + mode_A1  + \"_split\"):\n",
    "    os.makedirs(os.getcwd() + \"/\" + mode_A1  + \"_split\")\n",
    "if not os.path.exists(os.getcwd() + \"/\" + mode_B1  + \"_split\"):\n",
    "    os.makedirs(os.getcwd() + \"/\" + mode_B1  + \"_split\")\n",
    "if not os.path.exists(os.getcwd() + \"/\" + mode_A2  + \"_split\"):\n",
    "    os.makedirs(os.getcwd() + \"/\" + mode_A2  + \"_split\")\n",
    "if not os.path.exists(os.getcwd() + \"/\" + mode_B2  + \"_split\"):\n",
    "    os.makedirs(os.getcwd() + \"/\" + mode_B2  + \"_split\")\n",
    "\n",
    "\n",
    "filenum = 0\n",
    "for root,dirs,files in os.walk(workpath + mode_B1):    #遍历统计  \n",
    "    for each in files:  \n",
    "        if each[-4:] == '.bin':  \n",
    "            #print( root,dirs,each)  \n",
    "            filenum += 1  \n",
    "\n",
    "nt = 4000\n",
    "nr = 301\n",
    "out_data = np.empty((nt,nr))\n",
    "nx_out = 276\n",
    "nz_out = 276\n",
    "NX = nx_out * 2\n",
    "NZ = nz_out"
   ]
  },
  {
   "cell_type": "code",
   "execution_count": 3,
   "metadata": {},
   "outputs": [],
   "source": [
    "for count in range(filenum): # 0 ~ filenum-1\n",
    "    in_A1_path = os.getcwd() + \"/\" + mode_A1  + \"/div\" + str(count) + \".bin\"\n",
    "    in_B1_path = os.getcwd() +  \"/\" + mode_B1  + \"/vz\" + str(count) + \".bin\"\n",
    "    in_A2_path = os.getcwd() + \"/\" + mode_A2  + \"/curl\" + str(count) + \".bin\"\n",
    "    in_B2_path = os.getcwd() +  \"/\" + mode_B2  + \"/vx\" + str(count) + \".bin\"\n",
    "\n",
    "\n",
    "    out_A1_path =  os.getcwd() + \"/\" + mode_A1  + \"_split/A\" + str(count+1) + \".png\"\n",
    "    out_B1_path =  os.getcwd() + \"/\" + mode_B1  + \"_split/B\" + str(count+1) + \".png\"\n",
    "    out_A2_path =  os.getcwd() + \"/\" + mode_A2  + \"_split/A\" + str(count+1) + \".png\"\n",
    "    out_B2_path =  os.getcwd() + \"/\" + mode_B2  + \"_split/B\" + str(count+1) + \".png\"\n",
    "    #outname = os.getcwd() + \"/\" + mode + \"/\" + str(count+1) + \".png\"\n",
    "    \n",
    "    FA = open(in_A1_path, \"rb\")\n",
    "    for tt in range(nt):\n",
    "        for rr in range(nr):\n",
    "            data = FA.read(4)\n",
    "            data_float = struct.unpack(\"f\", data)[0]\n",
    "            out_data[tt][rr] = data_float\n",
    "     #np.shape(out_data)   # (4000,301)\n",
    "    cut_data = out_data[0:4000, 8:301]\n",
    "    #pic = plt.imshow(cut_data,vmin=-0.00000001, vmax = 0.00000001, extent=[0, 256, 256, 0])#, shape=[100,100])\n",
    "    plt.imsave(out_A1_path, cut_data, vmin=-0.00000001, vmax = 0.00000001)\n",
    "    #plt.imsave('A01.png', cut_data, vmin=-0.00000001, vmax = 0.00000001)\n",
    "    Image.open(out_A1_path).resize((nx_out, nz_out), Image.ANTIALIAS).save(out_A1_path)\n",
    "\n",
    "    # B\n",
    "    FB = open(in_B1_path, \"rb\")\n",
    "    for tt in range(nt):\n",
    "        for rr in range(nr):\n",
    "            data = FB.read(4)\n",
    "            data_float = struct.unpack(\"f\", data)[0]\n",
    "            out_data[tt][rr] = data_float\n",
    "     #np.shape(out_data)   # (4000,301)\n",
    "    cut_data = out_data[0:4000, 8:301]\n",
    "    #pic = plt.imshow(cut_data,vmin=-0.00000001, vmax = 0.00000001, extent=[0, 256, 256, 0])#, shape=[100,100])\n",
    "    plt.imsave(out_B1_path, cut_data, vmin=-0.00000001, vmax = 0.00000001)\n",
    "    Image.open(out_B1_path).resize((nx_out, nz_out), Image.ANTIALIAS).save(out_B1_path)\n",
    "\n",
    "    FA = open(in_A2_path, \"rb\")\n",
    "    for tt in range(nt):\n",
    "        for rr in range(nr):\n",
    "            data = FA.read(4)\n",
    "            data_float = struct.unpack(\"f\", data)[0]\n",
    "            out_data[tt][rr] = data_float\n",
    "     #np.shape(out_data)   # (4000,301)\n",
    "    cut_data = out_data[0:4000, 8:301]\n",
    "    #pic = plt.imshow(cut_data,vmin=-0.00000001, vmax = 0.00000001, extent=[0, 256, 256, 0])#, shape=[100,100])\n",
    "    plt.imsave(out_A2_path, cut_data, vmin=-0.00000001, vmax = 0.00000001)\n",
    "    #plt.imsave('A01.png', cut_data, vmin=-0.00000001, vmax = 0.00000001)\n",
    "    Image.open(out_A2_path).resize((nx_out, nz_out), Image.ANTIALIAS).save(out_A2_path)\n",
    "\n",
    "    # B\n",
    "    FB = open(in_B2_path, \"rb\")\n",
    "    for tt in range(nt):\n",
    "        for rr in range(nr):\n",
    "            data = FB.read(4)\n",
    "            data_float = struct.unpack(\"f\", data)[0]\n",
    "            out_data[tt][rr] = data_float\n",
    "     #np.shape(out_data)   # (4000,301)\n",
    "    cut_data = out_data[0:4000, 8:301]\n",
    "    #pic = plt.imshow(cut_data,vmin=-0.00000001, vmax = 0.00000001, extent=[0, 256, 256, 0])#, shape=[100,100])\n",
    "    plt.imsave(out_B2_path, cut_data, vmin=-0.00000001, vmax = 0.00000001)\n",
    "    Image.open(out_B2_path).resize((nx_out, nz_out), Image.ANTIALIAS).save(out_B2_path)\n",
    "    \n",
    " "
   ]
  },
  {
   "cell_type": "code",
   "execution_count": 4,
   "metadata": {},
   "outputs": [],
   "source": [
    "%hist -f convBin2Png.py"
   ]
  },
  {
   "cell_type": "code",
   "execution_count": 6,
   "metadata": {},
   "outputs": [
    {
     "ename": "ValueError",
     "evalue": "Size must be a tuple of length 2",
     "output_type": "error",
     "traceback": [
      "\u001b[0;31m---------------------------------------------------------------------------\u001b[0m",
      "\u001b[0;31mValueError\u001b[0m                                Traceback (most recent call last)",
      "\u001b[0;32m<ipython-input-6-4dddea95c86c>\u001b[0m in \u001b[0;36m<module>\u001b[0;34m()\u001b[0m\n\u001b[1;32m     65\u001b[0m \u001b[0;34m\u001b[0m\u001b[0m\n\u001b[1;32m     66\u001b[0m     \u001b[0marr\u001b[0m \u001b[0;34m=\u001b[0m \u001b[0;34m[\u001b[0m \u001b[0;34m[\u001b[0m\u001b[0mout_A1_path\u001b[0m\u001b[0;34m,\u001b[0m \u001b[0mout_B1_path\u001b[0m\u001b[0;34m]\u001b[0m\u001b[0;34m,\u001b[0m \u001b[0;34m[\u001b[0m\u001b[0mout_A2_path\u001b[0m\u001b[0;34m,\u001b[0m \u001b[0mout_B2_path\u001b[0m\u001b[0;34m]\u001b[0m \u001b[0;34m]\u001b[0m\u001b[0;34m\u001b[0m\u001b[0m\n\u001b[0;32m---> 67\u001b[0;31m     \u001b[0mtoImage\u001b[0m \u001b[0;34m=\u001b[0m \u001b[0mImage\u001b[0m\u001b[0;34m.\u001b[0m\u001b[0mnew\u001b[0m\u001b[0;34m(\u001b[0m\u001b[0;34m'L'\u001b[0m\u001b[0;34m,\u001b[0m \u001b[0;34m(\u001b[0m\u001b[0mNX\u001b[0m\u001b[0;34m,\u001b[0m\u001b[0mNZ\u001b[0m\u001b[0;34m,\u001b[0m\u001b[0;36m2\u001b[0m\u001b[0;34m)\u001b[0m\u001b[0;34m)\u001b[0m\u001b[0;34m\u001b[0m\u001b[0m\n\u001b[0m\u001b[1;32m     68\u001b[0m     \u001b[0;32mfor\u001b[0m \u001b[0mi\u001b[0m \u001b[0;32min\u001b[0m \u001b[0mrange\u001b[0m\u001b[0;34m(\u001b[0m\u001b[0;36m2\u001b[0m\u001b[0;34m)\u001b[0m\u001b[0;34m:\u001b[0m\u001b[0;34m\u001b[0m\u001b[0m\n\u001b[1;32m     69\u001b[0m            \u001b[0;32mfor\u001b[0m \u001b[0mj\u001b[0m \u001b[0;32min\u001b[0m \u001b[0mrange\u001b[0m\u001b[0;34m(\u001b[0m\u001b[0;36m2\u001b[0m\u001b[0;34m)\u001b[0m\u001b[0;34m:\u001b[0m\u001b[0;34m\u001b[0m\u001b[0m\n",
      "\u001b[0;32m~/anaconda3/envs/pytorch-CycleGAN-and-pix2pix/lib/python3.5/site-packages/PIL/Image.py\u001b[0m in \u001b[0;36mnew\u001b[0;34m(mode, size, color)\u001b[0m\n\u001b[1;32m   2285\u001b[0m     \"\"\"\n\u001b[1;32m   2286\u001b[0m \u001b[0;34m\u001b[0m\u001b[0m\n\u001b[0;32m-> 2287\u001b[0;31m     \u001b[0m_check_size\u001b[0m\u001b[0;34m(\u001b[0m\u001b[0msize\u001b[0m\u001b[0;34m)\u001b[0m\u001b[0;34m\u001b[0m\u001b[0m\n\u001b[0m\u001b[1;32m   2288\u001b[0m \u001b[0;34m\u001b[0m\u001b[0m\n\u001b[1;32m   2289\u001b[0m     \u001b[0;32mif\u001b[0m \u001b[0mcolor\u001b[0m \u001b[0;32mis\u001b[0m \u001b[0;32mNone\u001b[0m\u001b[0;34m:\u001b[0m\u001b[0;34m\u001b[0m\u001b[0m\n",
      "\u001b[0;32m~/anaconda3/envs/pytorch-CycleGAN-and-pix2pix/lib/python3.5/site-packages/PIL/Image.py\u001b[0m in \u001b[0;36m_check_size\u001b[0;34m(size)\u001b[0m\n\u001b[1;32m   2262\u001b[0m         \u001b[0;32mraise\u001b[0m \u001b[0mValueError\u001b[0m\u001b[0;34m(\u001b[0m\u001b[0;34m\"Size must be a tuple\"\u001b[0m\u001b[0;34m)\u001b[0m\u001b[0;34m\u001b[0m\u001b[0m\n\u001b[1;32m   2263\u001b[0m     \u001b[0;32mif\u001b[0m \u001b[0mlen\u001b[0m\u001b[0;34m(\u001b[0m\u001b[0msize\u001b[0m\u001b[0;34m)\u001b[0m \u001b[0;34m!=\u001b[0m \u001b[0;36m2\u001b[0m\u001b[0;34m:\u001b[0m\u001b[0;34m\u001b[0m\u001b[0m\n\u001b[0;32m-> 2264\u001b[0;31m         \u001b[0;32mraise\u001b[0m \u001b[0mValueError\u001b[0m\u001b[0;34m(\u001b[0m\u001b[0;34m\"Size must be a tuple of length 2\"\u001b[0m\u001b[0;34m)\u001b[0m\u001b[0;34m\u001b[0m\u001b[0m\n\u001b[0m\u001b[1;32m   2265\u001b[0m     \u001b[0;32mif\u001b[0m \u001b[0msize\u001b[0m\u001b[0;34m[\u001b[0m\u001b[0;36m0\u001b[0m\u001b[0;34m]\u001b[0m \u001b[0;34m<\u001b[0m \u001b[0;36m0\u001b[0m \u001b[0;32mor\u001b[0m \u001b[0msize\u001b[0m\u001b[0;34m[\u001b[0m\u001b[0;36m1\u001b[0m\u001b[0;34m]\u001b[0m \u001b[0;34m<\u001b[0m \u001b[0;36m0\u001b[0m\u001b[0;34m:\u001b[0m\u001b[0;34m\u001b[0m\u001b[0m\n\u001b[1;32m   2266\u001b[0m         \u001b[0;32mraise\u001b[0m \u001b[0mValueError\u001b[0m\u001b[0;34m(\u001b[0m\u001b[0;34m\"Width and height must be >= 0\"\u001b[0m\u001b[0;34m)\u001b[0m\u001b[0;34m\u001b[0m\u001b[0m\n",
      "\u001b[0;31mValueError\u001b[0m: Size must be a tuple of length 2"
     ]
    }
   ],
   "source": [
    "   \n",
    "    arr = [ [out_A1_path, out_B1_path], [out_A2_path, out_B2_path] ]\n",
    "    toImage = Image.new('L', (NX,NZ,2))\n",
    "    for i in range(2):\n",
    "           for j in range(2):\n",
    "                fromImge = Image.open(arr[j][i])\n",
    "                loc = (((i) * int(NX / 2)), 0, j)\n",
    "                toImage.paste(fromImge, loc)\n",
    "    toImage.save(outname)"
   ]
  },
  {
   "cell_type": "code",
   "execution_count": 3,
   "metadata": {},
   "outputs": [],
   "source": [
    "aa=[[1,2],[3,4]]"
   ]
  },
  {
   "cell_type": "code",
   "execution_count": 5,
   "metadata": {},
   "outputs": [
    {
     "data": {
      "text/plain": [
       "2"
      ]
     },
     "execution_count": 5,
     "metadata": {},
     "output_type": "execute_result"
    }
   ],
   "source": [
    "aa[0][1]"
   ]
  },
  {
   "cell_type": "code",
   "execution_count": 9,
   "metadata": {},
   "outputs": [
    {
     "name": "stdout",
     "output_type": "stream",
     "text": [
      "Help on function new in module PIL.Image:\n",
      "\n",
      "new(mode, size, color=0)\n",
      "    Creates a new image with the given mode and size.\n",
      "    \n",
      "    :param mode: The mode to use for the new image. See:\n",
      "       :ref:`concept-modes`.\n",
      "    :param size: A 2-tuple, containing (width, height) in pixels.\n",
      "    :param color: What color to use for the image.  Default is black.\n",
      "       If given, this should be a single integer or floating point value\n",
      "       for single-band modes, and a tuple for multi-band modes (one value\n",
      "       per band).  When creating RGB images, you can also use color\n",
      "       strings as supported by the ImageColor module.  If the color is\n",
      "       None, the image is not initialised.\n",
      "    :returns: An :py:class:`~PIL.Image.Image` object.\n",
      "\n"
     ]
    }
   ],
   "source": [
    "help(Image.new)"
   ]
  },
  {
   "cell_type": "code",
   "execution_count": 10,
   "metadata": {},
   "outputs": [
    {
     "name": "stdout",
     "output_type": "stream",
     "text": [
      "Help on function merge in module PIL.Image:\n",
      "\n",
      "merge(mode, bands)\n",
      "    Merge a set of single band images into a new multiband image.\n",
      "    \n",
      "    :param mode: The mode to use for the output image. See:\n",
      "        :ref:`concept-modes`.\n",
      "    :param bands: A sequence containing one single-band image for\n",
      "        each band in the output image.  All bands must have the\n",
      "        same size.\n",
      "    :returns: An :py:class:`~PIL.Image.Image` object.\n",
      "\n"
     ]
    }
   ],
   "source": [
    "help(Image.merge)"
   ]
  },
  {
   "cell_type": "code",
   "execution_count": 11,
   "metadata": {},
   "outputs": [
    {
     "ename": "TypeError",
     "evalue": "unhashable type: 'PngImageFile'",
     "output_type": "error",
     "traceback": [
      "\u001b[0;31m---------------------------------------------------------------------------\u001b[0m",
      "\u001b[0;31mTypeError\u001b[0m                                 Traceback (most recent call last)",
      "\u001b[0;32m<ipython-input-11-96d720cce190>\u001b[0m in \u001b[0;36m<module>\u001b[0;34m()\u001b[0m\n\u001b[1;32m      1\u001b[0m \u001b[0mA1p\u001b[0m \u001b[0;34m=\u001b[0m \u001b[0mImage\u001b[0m\u001b[0;34m.\u001b[0m\u001b[0mopen\u001b[0m\u001b[0;34m(\u001b[0m\u001b[0mout_A1_path\u001b[0m\u001b[0;34m)\u001b[0m\u001b[0;34m\u001b[0m\u001b[0m\n\u001b[1;32m      2\u001b[0m \u001b[0mA2p\u001b[0m \u001b[0;34m=\u001b[0m \u001b[0mImage\u001b[0m\u001b[0;34m.\u001b[0m\u001b[0mopen\u001b[0m\u001b[0;34m(\u001b[0m\u001b[0mout_A2_path\u001b[0m\u001b[0;34m)\u001b[0m\u001b[0;34m\u001b[0m\u001b[0m\n\u001b[0;32m----> 3\u001b[0;31m \u001b[0mAp\u001b[0m \u001b[0;34m=\u001b[0m \u001b[0mImage\u001b[0m\u001b[0;34m.\u001b[0m\u001b[0mmerge\u001b[0m\u001b[0;34m(\u001b[0m\u001b[0mA1p\u001b[0m\u001b[0;34m,\u001b[0m \u001b[0mA1p\u001b[0m\u001b[0;34m)\u001b[0m\u001b[0;34m\u001b[0m\u001b[0m\n\u001b[0m",
      "\u001b[0;32m~/anaconda3/envs/pytorch-CycleGAN-and-pix2pix/lib/python3.5/site-packages/PIL/Image.py\u001b[0m in \u001b[0;36mmerge\u001b[0;34m(mode, bands)\u001b[0m\n\u001b[1;32m   2677\u001b[0m     \"\"\"\n\u001b[1;32m   2678\u001b[0m \u001b[0;34m\u001b[0m\u001b[0m\n\u001b[0;32m-> 2679\u001b[0;31m     \u001b[0;32mif\u001b[0m \u001b[0mgetmodebands\u001b[0m\u001b[0;34m(\u001b[0m\u001b[0mmode\u001b[0m\u001b[0;34m)\u001b[0m \u001b[0;34m!=\u001b[0m \u001b[0mlen\u001b[0m\u001b[0;34m(\u001b[0m\u001b[0mbands\u001b[0m\u001b[0;34m)\u001b[0m \u001b[0;32mor\u001b[0m \u001b[0;34m\"*\"\u001b[0m \u001b[0;32min\u001b[0m \u001b[0mmode\u001b[0m\u001b[0;34m:\u001b[0m\u001b[0;34m\u001b[0m\u001b[0m\n\u001b[0m\u001b[1;32m   2680\u001b[0m         \u001b[0;32mraise\u001b[0m \u001b[0mValueError\u001b[0m\u001b[0;34m(\u001b[0m\u001b[0;34m\"wrong number of bands\"\u001b[0m\u001b[0;34m)\u001b[0m\u001b[0;34m\u001b[0m\u001b[0m\n\u001b[1;32m   2681\u001b[0m     \u001b[0;32mfor\u001b[0m \u001b[0mband\u001b[0m \u001b[0;32min\u001b[0m \u001b[0mbands\u001b[0m\u001b[0;34m[\u001b[0m\u001b[0;36m1\u001b[0m\u001b[0;34m:\u001b[0m\u001b[0;34m]\u001b[0m\u001b[0;34m:\u001b[0m\u001b[0;34m\u001b[0m\u001b[0m\n",
      "\u001b[0;32m~/anaconda3/envs/pytorch-CycleGAN-and-pix2pix/lib/python3.5/site-packages/PIL/Image.py\u001b[0m in \u001b[0;36mgetmodebands\u001b[0;34m(mode)\u001b[0m\n\u001b[1;32m    349\u001b[0m     \u001b[0;34m:\u001b[0m\u001b[0mexception\u001b[0m \u001b[0mKeyError\u001b[0m\u001b[0;34m:\u001b[0m \u001b[0mIf\u001b[0m \u001b[0mthe\u001b[0m \u001b[0minput\u001b[0m \u001b[0mmode\u001b[0m \u001b[0mwas\u001b[0m \u001b[0;32mnot\u001b[0m \u001b[0ma\u001b[0m \u001b[0mstandard\u001b[0m \u001b[0mmode\u001b[0m\u001b[0;34m.\u001b[0m\u001b[0;34m\u001b[0m\u001b[0m\n\u001b[1;32m    350\u001b[0m     \"\"\"\n\u001b[0;32m--> 351\u001b[0;31m     \u001b[0;32mreturn\u001b[0m \u001b[0mlen\u001b[0m\u001b[0;34m(\u001b[0m\u001b[0mImageMode\u001b[0m\u001b[0;34m.\u001b[0m\u001b[0mgetmode\u001b[0m\u001b[0;34m(\u001b[0m\u001b[0mmode\u001b[0m\u001b[0;34m)\u001b[0m\u001b[0;34m.\u001b[0m\u001b[0mbands\u001b[0m\u001b[0;34m)\u001b[0m\u001b[0;34m\u001b[0m\u001b[0m\n\u001b[0m\u001b[1;32m    352\u001b[0m \u001b[0;34m\u001b[0m\u001b[0m\n\u001b[1;32m    353\u001b[0m \u001b[0;34m\u001b[0m\u001b[0m\n",
      "\u001b[0;32m~/anaconda3/envs/pytorch-CycleGAN-and-pix2pix/lib/python3.5/site-packages/PIL/ImageMode.py\u001b[0m in \u001b[0;36mgetmode\u001b[0;34m(mode)\u001b[0m\n\u001b[1;32m     53\u001b[0m         \u001b[0;31m# set global mode cache atomically\u001b[0m\u001b[0;34m\u001b[0m\u001b[0;34m\u001b[0m\u001b[0m\n\u001b[1;32m     54\u001b[0m         \u001b[0m_modes\u001b[0m \u001b[0;34m=\u001b[0m \u001b[0mmodes\u001b[0m\u001b[0;34m\u001b[0m\u001b[0m\n\u001b[0;32m---> 55\u001b[0;31m     \u001b[0;32mreturn\u001b[0m \u001b[0m_modes\u001b[0m\u001b[0;34m[\u001b[0m\u001b[0mmode\u001b[0m\u001b[0;34m]\u001b[0m\u001b[0;34m\u001b[0m\u001b[0m\n\u001b[0m",
      "\u001b[0;31mTypeError\u001b[0m: unhashable type: 'PngImageFile'"
     ]
    }
   ],
   "source": [
    "A1p = Image.open(out_A1_path)\n",
    "A2p = Image.open(out_A2_path)\n",
    "Ap = Image.merge(A1p, A1p)"
   ]
  },
  {
   "cell_type": "code",
   "execution_count": null,
   "metadata": {},
   "outputs": [],
   "source": []
  }
 ],
 "metadata": {
  "kernelspec": {
   "display_name": "Python 3",
   "language": "python",
   "name": "python3"
  },
  "language_info": {
   "codemirror_mode": {
    "name": "ipython",
    "version": 3
   },
   "file_extension": ".py",
   "mimetype": "text/x-python",
   "name": "python",
   "nbconvert_exporter": "python",
   "pygments_lexer": "ipython3",
   "version": "3.5.5"
  }
 },
 "nbformat": 4,
 "nbformat_minor": 2
}
